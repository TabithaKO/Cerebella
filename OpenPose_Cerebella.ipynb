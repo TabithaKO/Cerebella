{
  "nbformat": 4,
  "nbformat_minor": 0,
  "metadata": {
    "accelerator": "GPU",
    "colab": {
      "name": "OpenPose_Cerebella.ipynb",
      "provenance": [],
      "collapsed_sections": [],
      "machine_shape": "hm"
    },
    "kernelspec": {
      "display_name": "Python 3",
      "name": "python3"
    }
  },
  "cells": [
    {
      "cell_type": "code",
      "metadata": {
        "colab": {
          "base_uri": "https://localhost:8080/"
        },
        "id": "T6qea2YhdbtF",
        "outputId": "65511424-e5d9-414f-f428-6c7b8ed8e0e1"
      },
      "source": [
        "%cd drive/MyDrive/Dataset/pose_estimation/cerebella/tf-pose-estimation/"
      ],
      "execution_count": null,
      "outputs": [
        {
          "output_type": "stream",
          "text": [
            "/content/drive/MyDrive/Dataset/pose_estimation/cerebella/tf-pose-estimation\n"
          ],
          "name": "stdout"
        }
      ]
    },
    {
      "cell_type": "code",
      "metadata": {
        "id": "QGJWRXAHGfwx"
      },
      "source": [
        "import sys\n",
        "import time\n",
        "import logging\n",
        "import os\n",
        "import random\n",
        "import string\n",
        "import tensorflow as tf\n",
        "import numpy as np\n",
        "from PIL import Image\n",
        "import pickle\n",
        "import matplotlib.pyplot as plt\n",
        "import cv2 \n",
        "from google.colab.patches import cv2_imshow\n",
        "import math"
      ],
      "execution_count": null,
      "outputs": []
    },
    {
      "cell_type": "markdown",
      "metadata": {
        "id": "pDkuNTHnuBI7"
      },
      "source": [
        "Create a cerebella folder\n",
        "- My repo was originally forked from g_sethi who had the TF2 implementation of openpose\n",
        "- Clone the repository"
      ]
    },
    {
      "cell_type": "code",
      "metadata": {
        "id": "Xo1KsSyytsf_"
      },
      "source": [
        "!git clone https://github.com/gsethi2409/tf-pose-estimation.git"
      ],
      "execution_count": null,
      "outputs": []
    },
    {
      "cell_type": "code",
      "metadata": {
        "colab": {
          "base_uri": "https://localhost:8080/"
        },
        "id": "5-3WAGOfhDfa",
        "outputId": "6263b69f-226a-425f-a4f2-ee503f0dd7ca"
      },
      "source": [
        "!pwd"
      ],
      "execution_count": null,
      "outputs": [
        {
          "output_type": "stream",
          "text": [
            "/content/drive/MyDrive/Dataset/pose_estimation/cerebella/tf-pose-estimation\n"
          ],
          "name": "stdout"
        }
      ]
    },
    {
      "cell_type": "code",
      "metadata": {
        "id": "1auzzxDTv985"
      },
      "source": [
        "# move into the tf-pose folder and install the requirements\n",
        "# %cd tf-pose-estimation/\n",
        "!pip install -r requirements.txt\n",
        "!apt-get install swig -y\n",
        "%cd tf_pose/pafprocess\n",
        "!swig -python -c++ pafprocess.i && python3 setup.py build_ext --inplace\n",
        "!pip install git+https://github.com/adrianc-a/tf-slim.git@remove_contrib\n",
        "\n",
        "# NOTE: You might get a warning telling you to restart your runtime... just do it and only run cells (1,2,3)"
      ],
      "execution_count": null,
      "outputs": []
    },
    {
      "cell_type": "code",
      "metadata": {
        "colab": {
          "base_uri": "https://localhost:8080/"
        },
        "id": "i-kOVTtOv96Q",
        "outputId": "b266ef23-578b-4b6a-930c-99507fa01e9c"
      },
      "source": [
        " # move back 2 directories\n",
        "%cd ../.."
      ],
      "execution_count": null,
      "outputs": [
        {
          "output_type": "stream",
          "text": [
            "/content/drive/My Drive/Dataset/pose_estimation/cerebella/tf-pose-estimation\n"
          ],
          "name": "stdout"
        }
      ]
    },
    {
      "cell_type": "code",
      "metadata": {
        "id": "hoZh0OUZhGg9"
      },
      "source": [
        "# these are required for the open_pose model\n",
        "from tf_pose import common\n",
        "from tf_pose.estimator import TfPoseEstimator\n",
        "from tf_pose.networks import get_graph_path, model_wh"
      ],
      "execution_count": null,
      "outputs": []
    },
    {
      "cell_type": "code",
      "metadata": {
        "id": "RfKFexkjv93c"
      },
      "source": [
        "# run this to check if you actually set things up correctly\n",
        "# if you get a prediction.jpg in yout directory ... your good to go!\n",
        "\n",
        "!python run.py --model=mobilenet_thin --resize=432x368 --image=./images/ski.jpg"
      ],
      "execution_count": null,
      "outputs": []
    },
    {
      "cell_type": "markdown",
      "metadata": {
        "id": "Mebfa6mw2Amc"
      },
      "source": [
        "MobileNet Thin set up"
      ]
    },
    {
      "cell_type": "code",
      "metadata": {
        "id": "hFef0pQ82rxG"
      },
      "source": [
        "# we'll start with the mobile_net model\n",
        "# to begin we'll resize the images to the model's prefered dimensions\n",
        "model='mobilenet_thin'\n",
        "resize='432x368'\n",
        "w, h = model_wh(resize)"
      ],
      "execution_count": null,
      "outputs": []
    },
    {
      "cell_type": "code",
      "metadata": {
        "id": "T_PrTGj83OvE"
      },
      "source": [
        "\n",
        "# get the prediction by calling the pose estimator function\n",
        "prediction = TfPoseEstimator(get_graph_path(model), target_size=(w, h))"
      ],
      "execution_count": null,
      "outputs": []
    },
    {
      "cell_type": "markdown",
      "metadata": {
        "id": "Ju1uJXvh6l2q"
      },
      "source": [
        "I modified the run file to accomodate 3d pose estimation and to run on a folder of files. The result is called run_multi.py\n"
      ]
    },
    {
      "cell_type": "code",
      "metadata": {
        "id": "1n6EiSjJ68G7"
      },
      "source": [
        "# make a directory to store the frames\n",
        "# from the video you're about to split\n",
        "!mkdir square_3d"
      ],
      "execution_count": null,
      "outputs": []
    },
    {
      "cell_type": "code",
      "metadata": {
        "id": "xZKwc9IVeEe_"
      },
      "source": [
        "!mkdir plot1_predictions"
      ],
      "execution_count": null,
      "outputs": []
    },
    {
      "cell_type": "code",
      "metadata": {
        "id": "-B529mYSeo4J"
      },
      "source": [
        "!ls"
      ],
      "execution_count": null,
      "outputs": []
    },
    {
      "cell_type": "code",
      "metadata": {
        "id": "4xuGvOsh6lm2"
      },
      "source": [
        "!python run_multi.py --model=mobilenet_thin --resize=432x368 --imgfolder=./square_3d/ --outfolder=square_3d_output/"
      ],
      "execution_count": null,
      "outputs": []
    },
    {
      "cell_type": "markdown",
      "metadata": {
        "id": "EzsE6cub321i"
      },
      "source": [
        "We'll now process our input video. Mine is called cerebela1.mp4\n"
      ]
    },
    {
      "cell_type": "code",
      "metadata": {
        "id": "mDyy4ewX4CYP"
      },
      "source": [
        "# I made this file after watching this video\n",
        "# https://www.youtube.com/watch?v=yKZ_A0XzXMU\n",
        "\n",
        "def length_of_video(video_path):\n",
        "  # smaller helper function\n",
        "  cap = cv2.VideoCapture(video_path)\n",
        "  length = int(cap.get(cv2.CAP_PROP_FRAME_COUNT))\n",
        "  return length\n",
        "\n",
        "def extracting_frames(video_path, save_path,skip_frames):\n",
        "  # extract frames and save them as jpg\n",
        "  # video_path: path to video\n",
        "  # save_path : save_directory for extracted images\n",
        "  # skip_frames: save every \"X\" frames\n",
        "\n",
        "  print(\"Extracting Frames\")\n",
        "\n",
        "  # Windows OS format\n",
        "  # C;\\temp\\video.mp4 = C:\\temp,video.mp4\n",
        "  _, file_name = os.path.split(video_path)\n",
        "\n",
        "  # tabby.mp4 = [tabby,.mp4]\n",
        "  file_name_without_ext = os.path.splitext(file_name)[0]\n",
        "\n",
        "  # check length\n",
        "  length = length_of_video(video_path)\n",
        "  if length == 0:\n",
        "    print('Length is 0, exiting extracting phase')\n",
        "    return 0\n",
        "\n",
        "  cap = cv2.VideoCapture(video_path)\n",
        "  count = 0 #keep count of frames\n",
        "  added_string = \"img\" #DLC format\n",
        "\n",
        "\n",
        "  # test first frame\n",
        "  ret, frame= cap.read() #ret frame returned correctly\n",
        "  test_file_path = os.path.join(\n",
        "      save_path,\n",
        "      file_name_without_ext[:] +\\\n",
        "      '{}{}.jpg'.format(added_string,count)\n",
        "  )\n",
        "\n",
        "  cv2.imwrite(test_file_path,frame)\n",
        "  if os.path.isfile(test_file_path):\n",
        "    print(\"Saving Test Frame Successfully\" + \" continuing Extraction Phase\")\n",
        "\n",
        "    count = 0\n",
        "    while ret:\n",
        "      ret,frame = cap.read()\n",
        "      if ret and (count % skip_frames) == 0:\n",
        "        cv2.imwrite(os.path.join(\n",
        "            save_path,\n",
        "            file_name_without_ext[:]+\n",
        "            '{}{}.jpg'.format(added_string,count)),frame)\n",
        "        count +=1\n",
        "        print(count)\n",
        "      else:\n",
        "        count += 1\n",
        "  else:\n",
        "    print(\"Problem with Saving Test fRAME CV2 encoding, cannot save file\")\n",
        "    return 0\n",
        "\n",
        "  cap.release()\n",
        "  print(\"**********FINISHED EXTRACTION*************\")\n"
      ],
      "execution_count": null,
      "outputs": []
    },
    {
      "cell_type": "code",
      "metadata": {
        "colab": {
          "base_uri": "https://localhost:8080/"
        },
        "id": "KRm8LJJp5k6I",
        "outputId": "04019640-29cf-46f1-f642-071e5f02ddd3"
      },
      "source": [
        "# Add your video to this directory\n",
        "!pwd"
      ],
      "execution_count": null,
      "outputs": [
        {
          "output_type": "stream",
          "text": [
            "/content/drive/My Drive/Dataset/pose_estimation/cerebella/tf-pose-estimation\n"
          ],
          "name": "stdout"
        }
      ]
    },
    {
      "cell_type": "code",
      "metadata": {
        "id": "-dlHV3Oo4oe6"
      },
      "source": [
        "video = \"squareVID.mp4\"\n",
        "save_path = 'square_3d/'\n",
        "extracting_frames(video,save_path,skip_frames=1)"
      ],
      "execution_count": null,
      "outputs": []
    },
    {
      "cell_type": "markdown",
      "metadata": {
        "id": "P1vbVII657nJ"
      },
      "source": [
        "Now that we have the frames we want to collect inferences on each one of them and save them to their respective folders based on the type"
      ]
    },
    {
      "cell_type": "code",
      "metadata": {
        "colab": {
          "base_uri": "https://localhost:8080/"
        },
        "id": "vlXP-_aQ57O5",
        "outputId": "aff640e3-64fe-49aa-8813-661bf2a4848a"
      },
      "source": [
        "images = os.listdir('frames')\n",
        "len(images)"
      ],
      "execution_count": null,
      "outputs": [
        {
          "output_type": "execute_result",
          "data": {
            "text/plain": [
              "150"
            ]
          },
          "metadata": {
            "tags": []
          },
          "execution_count": 21
        }
      ]
    },
    {
      "cell_type": "code",
      "metadata": {
        "colab": {
          "base_uri": "https://localhost:8080/",
          "height": 240
        },
        "id": "85rk7NRL74GF",
        "outputId": "b8f2ffa6-97c1-433e-9bca-bcb65be6a633"
      },
      "source": [
        "image_path = 'frames/cerebella1img0.jpg'\n",
        "image = cv2.imread(image_path)\n",
        "image = cv2.cvtColor(image, cv2.COLOR_BGR2RGB)\n",
        "plt.imshow(image)\n",
        "plt.grid();"
      ],
      "execution_count": null,
      "outputs": [
        {
          "output_type": "display_data",
          "data": {
            "image/png": "[encoded data removed]",
            "text/plain": [
              "<Figure size 432x288 with 1 Axes>"
            ]
          },
          "metadata": {
            "tags": []
          }
        }
      ]
    },
    {
      "cell_type": "code",
      "metadata": {
        "id": "UaFe2hVX-W57"
      },
      "source": [
        "def plot_heatmap(i):\n",
        "  max_prob = np.amax(prediction.heatMat[:, :, :-1], axis=2)\n",
        "  # plt.imshow(max_prob)\n",
        "  plt.grid()\n",
        "  plt.savefig(\"plain_hm/\"+str(i)+\".jpg\",bbox_inches='tight')"
      ],
      "execution_count": null,
      "outputs": []
    },
    {
      "cell_type": "code",
      "metadata": {
        "id": "wC20_5ON-Z1q"
      },
      "source": [
        "def plot_heatmap_on_img(i):\n",
        "  max_prob = np.amax(prediction.heatMat[:, :, :-1], axis=2)\n",
        "  # this allows us to change the image from one color space to another\n",
        "  bgimg = cv2.cvtColor(image.astype(np.uint8), cv2.COLOR_BGR2RGB)\n",
        "  # we're resizing the prediction image to the original size\n",
        "  bgimg = cv2.resize(bgimg, (prediction.heatMat.shape[1], prediction.heatMat.shape[0]), interpolation=cv2.INTER_AREA)\n",
        "  # alpha determines how transparent a plot is\n",
        "  plt.imshow(bgimg, alpha=0.5)\n",
        "  plt.imshow(max_prob, alpha=0.5)\n",
        "  plt.grid()\n",
        "  plt.savefig(\"marked_2/\"+str(i)+\".jpg\",bbox_inches='tight')"
      ],
      "execution_count": null,
      "outputs": []
    },
    {
      "cell_type": "code",
      "metadata": {
        "id": "zBsSh6PrCZW9"
      },
      "source": [
        "def plot_black(i):\n",
        "  black_background = np.zeros(image.shape)\n",
        "  skeleton = TfPoseEstimator.draw_humans(black_background, humans, imgcopy=False)\n",
        "  plt.figure(figsize=(15,8))\n",
        "  plt.imshow(skeleton)\n",
        "  plt.grid() \n",
        "  plt.axis('off')\n",
        "  plt.savefig(\"black/\"+str(i)+\".jpg\",bbox_inches='tight')\n"
      ],
      "execution_count": null,
      "outputs": []
    },
    {
      "cell_type": "code",
      "metadata": {
        "id": "xerT2EfoJ69r"
      },
      "source": [
        "# This allows the plots to be placed on the actual image\n",
        "# Use this to place the number circles on the frame\n",
        "\n",
        "def plot_kps_person(i):\n",
        "  plt.figure(figsize=(10,10))\n",
        "  plt.axis([0, image.shape[1], 0, image.shape[0]])\n",
        "  # plt.scatter(*zip(*k_array), s=200, color='pink', alpha=0.6)\n",
        "  plt.scatter(*zip(*keypts_array), s=200, color='pink', alpha=0.6)\n",
        "  img = cv2.cvtColor(image, cv2.COLOR_BGR2RGB)\n",
        "  plt.imshow(img, alpha=0.7)\n",
        "  # plt.imshow(max_prob, alpha=0.5)\n",
        "  ax=plt.gca() \n",
        "  ax.set_ylim(ax.get_ylim()[::-1]) \n",
        "  ax.xaxis.tick_top() \n",
        "  plt.grid();\n",
        "  # for j, txt in enumerate(k_array):\n",
        "  #   # I changed the offset to 3 instead of 5\n",
        "  #   ax.annotate(j, (k_array[j][0]-3, k_array[j][1]+3))\n",
        "\n",
        "  plt.savefig(\"marked_2/\"+str(i)+\".jpg\",bbox_inches='tight')"
      ],
      "execution_count": null,
      "outputs": []
    },
    {
      "cell_type": "code",
      "metadata": {
        "id": "TSJS9Wd6NBdM"
      },
      "source": [
        "def solo_kps(i):\n",
        "  plt.figure(figsize=(10,10))\n",
        "  plt.axis([0, image.shape[1], 0, image.shape[0]])\n",
        "  plt.scatter(*zip(*keypts_array))\n",
        "  ax=plt.gca()\n",
        "  ax.set_ylim(ax.get_ylim()[::-1])\n",
        "  ax.xaxis.tick_top() \n",
        "  plt.grid();\n",
        "  print(\"saving\",i)\n",
        "  plt.savefig(\"solo_kps/\"+str(i)+\".jpg\",bbox_inches='tight')"
      ],
      "execution_count": null,
      "outputs": []
    },
    {
      "cell_type": "code",
      "metadata": {
        "id": "RTB6lJhW_Vv9"
      },
      "source": [
        "# make the directories to store the ourputs\n",
        "# black: keypoints on a plain background\n",
        "# heatmap: heatmap on image\n",
        "# preds: keypoints on an image\n",
        "# plain_hm : heatmaps on plain image\n",
        "!mkdir black heatmap preds plain_hm solo_kps"
      ],
      "execution_count": null,
      "outputs": []
    },
    {
      "cell_type": "code",
      "metadata": {
        "colab": {
          "base_uri": "https://localhost:8080/"
        },
        "id": "vsqNL81-RlRf",
        "outputId": "32365ef4-2813-42cb-f283-a6182cf80af9"
      },
      "source": [
        "len(images)"
      ],
      "execution_count": null,
      "outputs": [
        {
          "output_type": "execute_result",
          "data": {
            "text/plain": [
              "150"
            ]
          },
          "metadata": {
            "tags": []
          },
          "execution_count": 53
        }
      ]
    },
    {
      "cell_type": "code",
      "metadata": {
        "id": "1AIhh-WZRozG"
      },
      "source": [
        "!mkdir marked3"
      ],
      "execution_count": null,
      "outputs": []
    },
    {
      "cell_type": "code",
      "metadata": {
        "colab": {
          "background_save": true
        },
        "id": "5Zocn58U9Zid"
      },
      "source": [
        "for i in range(0,len(virt_frames)):\n",
        "  print(i)\n",
        "  image_path = \"frames/\"+virt_frames[i]\n",
        "  image = cv2.imread(image_path)\n",
        "\n",
        "  image = cv2.cvtColor(image, cv2.COLOR_BGR2RGB)\n",
        "  humans = prediction.inference(image, resize_to_default=(w > 0 and h > 0), upsample_size=4.0)\n",
        "\n",
        "  # the draw humans draws the proper keypoints on a person\n",
        "  image = TfPoseEstimator.draw_humans(image, humans, imgcopy=False)\n",
        "\n",
        "  # You can draw the kps on a plain black background\n",
        "\n",
        "  image = common.read_imgfile(image_path, None, None)\n",
        "  humans = prediction.inference(image, resize_to_default=(w > 0 and h > 0), upsample_size=4.0)\n",
        "\n",
        "  # get the keypoints\n",
        "  if len(humans) == 1:\n",
        "    keypoints = str(str(str(humans[0]).split('BodyPart:')[1:]).split('-')).split(' score=')\n",
        "    # parse through the results to get the specific keypoints\n",
        "    keypoints_list=[]\n",
        "    for k in range (len(keypoints)-1): \n",
        "      pnt = keypoints[k][-11:-1]\n",
        "      pnt = tuple(map(float, pnt.split(', ')))\n",
        "      keypoints_list.append(pnt)\n",
        "\n",
        "    # create a keypoints array\n",
        "    keypts_array = np.array(keypoints_list)\n",
        "    keypts_array = keypts_array*(image.shape[1],image.shape[0])\n",
        "    keypts_array = keypts_array.astype(int) \n",
        "    # print(\"----------\")\n",
        "    # # print(keypts_array)\n",
        "    # print(\"----------\")\n",
        "\n",
        "    k_array = [keypts_array[2], keypts_array[3], keypts_array[4], keypts_array[8]]\n",
        "\n",
        "\n",
        "\n",
        "    # black image\n",
        "    # plot_black(i)\n",
        "    # plot_heatmap(i)\n",
        "    # plot_heatmap_on_img(i)\n",
        "    plot_kps_person(i)\n",
        "    # solo_kps(i)\n"
      ],
      "execution_count": null,
      "outputs": []
    },
    {
      "cell_type": "markdown",
      "metadata": {
        "id": "B8DFf_S8i50s"
      },
      "source": [
        "Frames --> Video"
      ]
    },
    {
      "cell_type": "code",
      "metadata": {
        "id": "y-bKj9sWjt8E"
      },
      "source": [
        "!mkdir video"
      ],
      "execution_count": null,
      "outputs": []
    },
    {
      "cell_type": "code",
      "metadata": {
        "colab": {
          "base_uri": "https://localhost:8080/"
        },
        "id": "TQLoHgj9kq7S",
        "outputId": "a1b77e24-6cc7-4538-aaf5-ac9b4ac48cac"
      },
      "source": [
        "%cd video/\n",
        "!mkdir frames/"
      ],
      "execution_count": null,
      "outputs": [
        {
          "output_type": "stream",
          "text": [
            "/content/drive/My Drive/Dataset/pose_estimation/cerebella/tf-pose-estimation/video\n"
          ],
          "name": "stdout"
        }
      ]
    },
    {
      "cell_type": "code",
      "metadata": {
        "colab": {
          "base_uri": "https://localhost:8080/"
        },
        "id": "FCQzzsD3og60",
        "outputId": "b61daef9-4ccc-4ab3-aaba-b4f03fc64407"
      },
      "source": [
        "%cd .."
      ],
      "execution_count": null,
      "outputs": [
        {
          "output_type": "stream",
          "text": [
            "/content/drive/My Drive/Dataset/pose_estimation/cerebella/tf-pose-estimation\n"
          ],
          "name": "stdout"
        }
      ]
    },
    {
      "cell_type": "code",
      "metadata": {
        "id": "yjyTKSYto0R2"
      },
      "source": [
        "# The first frames are the original video frames\n",
        "# The naming is weird so I'll use this code\n",
        "frame_names = os.listdir('frames/')\n",
        "frame_names = frame_names[:25]\n",
        "frame_names"
      ],
      "execution_count": null,
      "outputs": []
    },
    {
      "cell_type": "code",
      "metadata": {
        "id": "t_eZFfwUkcob"
      },
      "source": [
        "# I'll start by collecting the frames \n",
        "frame_files = ['frames/','heatmap/','plain_hm/','black/','preds/','solo_kps/']\n",
        "folder = \"holder\"\n",
        "for i in range(131,150):\n",
        "\n",
        "  folder = frame_files[i//25]\n",
        "  filename = folder + str(i) +'.jpg'\n",
        "\n",
        "  # the original video frames are named in a pretty inconvenient way\n",
        "  if i//25 == 0:\n",
        "    filename = 'frames/' + frame_names[i]\n",
        "\n",
        "  print(filename)\n",
        "  img = cv2.imread(filename)\n",
        "  out_name = \"video/frames/\" + str(i) +'.jpg'\n",
        "  cv2.imwrite(out_name,img)"
      ],
      "execution_count": null,
      "outputs": []
    },
    {
      "cell_type": "code",
      "metadata": {
        "colab": {
          "base_uri": "https://localhost:8080/"
        },
        "id": "YpqnX6_YqgZU",
        "outputId": "8eee486b-e533-44db-f766-b2a4adecd5a6"
      },
      "source": [
        "%cd video/"
      ],
      "execution_count": null,
      "outputs": [
        {
          "output_type": "stream",
          "text": [
            "/content/drive/MyDrive/Dataset/pose_estimation/cerebella/tf-pose-estimation/video\n"
          ],
          "name": "stdout"
        }
      ]
    },
    {
      "cell_type": "code",
      "metadata": {
        "id": "OVDWZcWNZc4p"
      },
      "source": [
        "# !mkdir openpose_combo\n",
        "# I'll start by collecting the frames \n",
        "frame_files = ['marked_2/','marked3/']\n",
        "folder = \"openpose_combo\"\n",
        "for i in range(131,150):\n",
        "\n",
        "  folder = frame_files[i//75]\n",
        "  filename = folder + str(i) +'.jpg'\n",
        "\n",
        "  img = cv2.imread(filename)\n",
        "  out_name = \"openpose_combo/\" + str(i) +'.jpg'\n",
        "  cv2.imwrite(out_name,img)"
      ],
      "execution_count": null,
      "outputs": []
    },
    {
      "cell_type": "code",
      "metadata": {
        "colab": {
          "base_uri": "https://localhost:8080/"
        },
        "id": "90QnJchfjAaJ",
        "outputId": "84f44597-e17a-40d4-bd64-41e47b8e6152"
      },
      "source": [
        "from os.path import isfile, join\n",
        "pathIn= 'openpose_combo/'\n",
        "pathOut = 'openpose_arm_demo.mp4'\n",
        "# It was a 50s video and I generated 150 frames\n",
        "# Therefore I have 3fps\n",
        "# I'll use 10 to make the video run faster\n",
        "fps = 10\n",
        "frame_array = []\n",
        "files = [f for f in os.listdir(pathIn) if isfile(join(pathIn, f))]\n",
        "#for sorting the file names properly\n",
        "files.sort(key = lambda x: x[5:-4])\n",
        "files.sort()\n",
        "frame_array = []\n",
        "files = [f for f in os.listdir(pathIn) if isfile(join(pathIn, f))]\n",
        "#for sorting the file names properly\n",
        "files.sort(key = lambda x: x[5:-4])\n",
        "print(files)"
      ],
      "execution_count": null,
      "outputs": [
        {
          "output_type": "stream",
          "text": [
            "['0.jpg', '1.jpg', '2.jpg', '3.jpg', '4.jpg', '5.jpg', '6.jpg', '7.jpg', '8.jpg', '9.jpg', '10.jpg', '11.jpg', '12.jpg', '13.jpg', '14.jpg', '15.jpg', '16.jpg', '17.jpg', '18.jpg', '19.jpg', '20.jpg', '21.jpg', '22.jpg', '23.jpg', '24.jpg', '25.jpg', '26.jpg', '27.jpg', '28.jpg', '29.jpg', '30.jpg', '31.jpg', '32.jpg', '33.jpg', '34.jpg', '35.jpg', '36.jpg', '37.jpg', '38.jpg', '39.jpg', '40.jpg', '41.jpg', '42.jpg', '43.jpg', '44.jpg', '45.jpg', '46.jpg', '47.jpg', '48.jpg', '49.jpg', '50.jpg', '51.jpg', '52.jpg', '53.jpg', '54.jpg', '55.jpg', '56.jpg', '57.jpg', '58.jpg', '59.jpg', '60.jpg', '61.jpg', '62.jpg', '63.jpg', '64.jpg', '65.jpg', '66.jpg', '67.jpg', '68.jpg', '69.jpg', '70.jpg', '71.jpg', '72.jpg', '73.jpg', '74.jpg', '75.jpg', '76.jpg', '77.jpg', '78.jpg', '79.jpg', '80.jpg', '81.jpg', '82.jpg', '83.jpg', '84.jpg', '85.jpg', '86.jpg', '87.jpg', '88.jpg', '89.jpg', '90.jpg', '91.jpg', '92.jpg', '93.jpg', '94.jpg', '95.jpg', '96.jpg', '97.jpg', '98.jpg', '99.jpg', '100.jpg', '101.jpg', '102.jpg', '103.jpg', '104.jpg', '105.jpg', '106.jpg', '107.jpg', '108.jpg', '109.jpg', '110.jpg', '111.jpg', '112.jpg', '113.jpg', '114.jpg', '115.jpg', '116.jpg', '117.jpg', '118.jpg', '119.jpg', '120.jpg', '121.jpg', '122.jpg', '123.jpg', '124.jpg', '125.jpg', '126.jpg', '127.jpg', '128.jpg', '129.jpg', '131.jpg', '132.jpg', '133.jpg', '134.jpg', '135.jpg', '136.jpg', '137.jpg', '138.jpg', '139.jpg', '140.jpg', '141.jpg', '142.jpg', '143.jpg', '144.jpg', '145.jpg', '146.jpg', '147.jpg', '148.jpg', '149.jpg']\n"
          ],
          "name": "stdout"
        }
      ]
    },
    {
      "cell_type": "code",
      "metadata": {
        "id": "DhhjcATNsTdS"
      },
      "source": [
        "for i in range(len(files)):\n",
        "    filename=pathIn + files[i]\n",
        "    #reading each files\n",
        "    img = cv2.imread(filename)\n",
        "    height, width, layers = img.shape\n",
        "    size = (width,height)\n",
        "    \n",
        "    #inserting the frames into an image array\n",
        "    frame_array.append(img)"
      ],
      "execution_count": null,
      "outputs": []
    },
    {
      "cell_type": "code",
      "metadata": {
        "colab": {
          "base_uri": "https://localhost:8080/"
        },
        "id": "3rhYMZEwsbdj",
        "outputId": "39ff37dc-7619-42b1-952d-4420591884d7"
      },
      "source": [
        "len(frame_array)"
      ],
      "execution_count": null,
      "outputs": [
        {
          "output_type": "execute_result",
          "data": {
            "text/plain": [
              "149"
            ]
          },
          "metadata": {
            "tags": []
          },
          "execution_count": 299
        }
      ]
    },
    {
      "cell_type": "code",
      "metadata": {
        "id": "OIeNcUhNsY1M"
      },
      "source": [
        "out = cv2.VideoWriter(pathOut,cv2.VideoWriter_fourcc(*'DIVX'), fps, size)\n",
        "for i in range(len(frame_array)):\n",
        "    # writing to a image array\n",
        "    print(i)\n",
        "    out.write(frame_array[i])\n",
        "out.release()"
      ],
      "execution_count": null,
      "outputs": []
    },
    {
      "cell_type": "markdown",
      "metadata": {
        "id": "l6M4KShiu7Di"
      },
      "source": [
        "Different frames --> Video file"
      ]
    },
    {
      "cell_type": "code",
      "metadata": {
        "colab": {
          "base_uri": "https://localhost:8080/"
        },
        "id": "1Z2XAd8PwZS7",
        "outputId": "ea0fd035-6acc-4203-c728-c875e2fda802"
      },
      "source": [
        "!pwd"
      ],
      "execution_count": null,
      "outputs": [
        {
          "output_type": "stream",
          "text": [
            "/content/drive/My Drive/Dataset/pose_estimation/cerebella/tf-pose-estimation/video\n"
          ],
          "name": "stdout"
        }
      ]
    },
    {
      "cell_type": "markdown",
      "metadata": {
        "id": "0o4BQ3Icwjw7"
      },
      "source": [
        "Another video maker"
      ]
    },
    {
      "cell_type": "code",
      "metadata": {
        "id": "5z1T-bqlws5K"
      },
      "source": [
        "images = os.listdir('frames')"
      ],
      "execution_count": null,
      "outputs": []
    },
    {
      "cell_type": "code",
      "metadata": {
        "colab": {
          "base_uri": "https://localhost:8080/"
        },
        "id": "vt-9IQVAw_AG",
        "outputId": "9c7f046e-56fa-4f48-df03-b071c1f537d4"
      },
      "source": [
        "img1 = cv2.imread(\"frames/\"+images[0])\n",
        "print(img1.shape)\n",
        "img2 = cv2.imread(\"frames/\"+images[26])\n",
        "print(img2.shape)\n",
        "img3 = cv2.imread(\"frames/\"+images[56])\n",
        "print(img3.shape)\n",
        "img4 = cv2.imread(\"frames/\"+images[76])\n",
        "print(img4.shape)\n",
        "img5 = cv2.imread(\"frames/\"+images[116])\n",
        "print(img5.shape)\n",
        "img6 = cv2.imread(\"frames/\"+images[146])\n",
        "print(img6.shape)"
      ],
      "execution_count": null,
      "outputs": [
        {
          "output_type": "stream",
          "text": [
            "(1080, 1920, 3)\n",
            "(449, 611, 3)\n",
            "(449, 524, 3)\n",
            "(449, 787, 3)\n",
            "(575, 604, 3)\n",
            "(575, 604, 3)\n"
          ],
          "name": "stdout"
        }
      ]
    },
    {
      "cell_type": "code",
      "metadata": {
        "id": "dCrku53azkle"
      },
      "source": [
        "images = os.listdir('frames/')"
      ],
      "execution_count": null,
      "outputs": []
    },
    {
      "cell_type": "code",
      "metadata": {
        "id": "6RUkgx7YyCTu"
      },
      "source": [
        "# I need to resize the images to the same dimesnsions\n",
        "!mkdir resized_frames\n",
        "\n",
        "width = 604\n",
        "height = 575\n",
        "dim = (width, height)\n",
        " \n",
        "\n",
        "for i in range(len(images)):\n",
        "  filename = \"frames/\"+ images[i]\n",
        "  img = cv2.imread(filename)\n",
        "  # resize image\n",
        "  resized = cv2.resize(img, dim, interpolation = cv2.INTER_AREA)\n",
        "  # cv2_imshow(resized)\n",
        "  out_name = \"resized_frames/\" + str(i) +'.jpg'\n",
        "  cv2.imwrite(out_name,resized)\n"
      ],
      "execution_count": null,
      "outputs": []
    },
    {
      "cell_type": "markdown",
      "metadata": {
        "id": "QXRljQHY0W4V"
      },
      "source": [
        "After running the previous cell go back up and run the original video to frames code the one below does provide apple congruent results"
      ]
    },
    {
      "cell_type": "code",
      "metadata": {
        "colab": {
          "base_uri": "https://localhost:8080/"
        },
        "id": "qY6-O-gqwXkF",
        "outputId": "8b5fcef1-5d30-4175-9be9-1469c37c645c"
      },
      "source": [
        "import os\n",
        "import moviepy.video.io.ImageSequenceClip\n",
        "image_folder='resized_frames'\n",
        "fps=3\n",
        "\n",
        "image_files = [image_folder+'/'+img for img in os.listdir(image_folder) if img.endswith(\".jpg\")]\n",
        "clip = moviepy.video.io.ImageSequenceClip.ImageSequenceClip(image_files, fps=fps)\n",
        "clip.write_videofile('my_video.mp4')"
      ],
      "execution_count": null,
      "outputs": [
        {
          "output_type": "stream",
          "text": [
            "[MoviePy] >>>> Building video my_video.mp4\n",
            "[MoviePy] Writing video my_video.mp4\n"
          ],
          "name": "stdout"
        },
        {
          "output_type": "stream",
          "text": [
            "100%|██████████| 150/150 [00:02<00:00, 74.90it/s]\n"
          ],
          "name": "stderr"
        },
        {
          "output_type": "stream",
          "text": [
            "[MoviePy] Done.\n",
            "[MoviePy] >>>> Video ready: my_video.mp4 \n",
            "\n"
          ],
          "name": "stdout"
        }
      ]
    },
    {
      "cell_type": "markdown",
      "metadata": {
        "id": "puycX3DirIFh"
      },
      "source": [
        "ROBOT ARM: Tracking 2,3,4"
      ]
    },
    {
      "cell_type": "code",
      "metadata": {
        "colab": {
          "base_uri": "https://localhost:8080/"
        },
        "id": "Mhjso9JurvXh",
        "outputId": "2dec45ad-9b98-4cb2-df8e-31d2712077b1"
      },
      "source": [
        "!pwd"
      ],
      "execution_count": null,
      "outputs": [
        {
          "output_type": "stream",
          "text": [
            "/content/drive/My Drive/Dataset/pose_estimation/cerebella/tf-pose-estimation/video\n"
          ],
          "name": "stdout"
        }
      ]
    },
    {
      "cell_type": "code",
      "metadata": {
        "id": "iSSc_9cQtrWR"
      },
      "source": [
        "%cd ..\n",
        "!mkdir virtual_potentiometer"
      ],
      "execution_count": null,
      "outputs": []
    },
    {
      "cell_type": "code",
      "metadata": {
        "id": "gguyr-1F2ozj"
      },
      "source": [
        "# move into the potentiometer folder\n",
        "%cd virtual_potentiometer\n",
        "!mkdir frames "
      ],
      "execution_count": null,
      "outputs": []
    },
    {
      "cell_type": "code",
      "metadata": {
        "colab": {
          "base_uri": "https://localhost:8080/"
        },
        "id": "okSLx2YFUsVz",
        "outputId": "dbfe7c8b-de9d-4fe9-ba4a-86bac71627ae"
      },
      "source": [
        "%cd .."
      ],
      "execution_count": null,
      "outputs": [
        {
          "output_type": "stream",
          "text": [
            "/content/drive/My Drive/Dataset/pose_estimation/cerebella/tf-pose-estimation\n"
          ],
          "name": "stdout"
        }
      ]
    },
    {
      "cell_type": "code",
      "metadata": {
        "id": "4DfDLrGxq8DU"
      },
      "source": [
        "# Let me get a series of frames that \n",
        "# have my arm moving in normal movement\n",
        "# this is the first 24 frames\n",
        "\n",
        "path = \"frames/\"\n",
        "# I can't predict the names\n",
        "frame_names = os.listdir('frames/')\n",
        "\n",
        "# copy the frames into the virtual_potentiometer folder\n",
        "for i in range(len(frame_names)):\n",
        "  filename = \"frames/\"+ frame_names[i]\n",
        "  img = cv2.imread(filename)\n",
        "  out_name = \"virtual_potentiometer/frames/\" + str(i) +'.jpg'\n",
        "  cv2.imwrite(out_name,img)\n"
      ],
      "execution_count": null,
      "outputs": []
    },
    {
      "cell_type": "code",
      "metadata": {
        "colab": {
          "base_uri": "https://localhost:8080/"
        },
        "id": "-bEvfld2ud1K",
        "outputId": "21272331-b5e2-4bcd-d43d-b5a29666d084"
      },
      "source": [
        "%cd virtual_potentiometer/"
      ],
      "execution_count": null,
      "outputs": [
        {
          "output_type": "stream",
          "text": [
            "/content/drive/My Drive/Dataset/pose_estimation/cerebella/tf-pose-estimation/virtual_potentiometer\n"
          ],
          "name": "stdout"
        }
      ]
    },
    {
      "cell_type": "code",
      "metadata": {
        "id": "EYF2IhLD5a00"
      },
      "source": [
        "# make the folders for the different plot outputs\n",
        "!mkdir marked_images skeletons"
      ],
      "execution_count": null,
      "outputs": []
    },
    {
      "cell_type": "markdown",
      "metadata": {
        "id": "uAKcv0Pb3L8F"
      },
      "source": [
        "Code for making predictions via OpenPose"
      ]
    },
    {
      "cell_type": "code",
      "metadata": {
        "colab": {
          "base_uri": "https://localhost:8080/"
        },
        "id": "kLTVhfnTTvyO",
        "outputId": "b24a7e92-f7be-44c6-b055-40b5539b633a"
      },
      "source": [
        "!pwd"
      ],
      "execution_count": null,
      "outputs": [
        {
          "output_type": "stream",
          "text": [
            "/content/drive/My Drive/Dataset/pose_estimation/cerebella/tf-pose-estimation/virtual_potentiometer\n"
          ],
          "name": "stdout"
        }
      ]
    },
    {
      "cell_type": "code",
      "metadata": {
        "id": "Apyp8wFH53rS"
      },
      "source": [
        "virt_frames = os.listdir('frames/')"
      ],
      "execution_count": null,
      "outputs": []
    },
    {
      "cell_type": "code",
      "metadata": {
        "id": "1QPxv0wF7ME4"
      },
      "source": [
        "# save the keypoints across time\n",
        "kp_series = []\n",
        "scores_series = []"
      ],
      "execution_count": null,
      "outputs": []
    },
    {
      "cell_type": "markdown",
      "metadata": {
        "id": "bvwhWRvO9F8I"
      },
      "source": [
        "I have to change the plotting code to only plot the right arm data"
      ]
    },
    {
      "cell_type": "code",
      "metadata": {
        "colab": {
          "base_uri": "https://localhost:8080/"
        },
        "id": "inm_sVzC5LaH",
        "outputId": "bfec01e3-4617-4b10-d6d0-13bce7609df7"
      },
      "source": [
        "%cd virtual_potentiometer/"
      ],
      "execution_count": null,
      "outputs": [
        {
          "output_type": "stream",
          "text": [
            "/content/drive/MyDrive/Dataset/pose_estimation/cerebella/tf-pose-estimation/virtual_potentiometer\n"
          ],
          "name": "stdout"
        }
      ]
    },
    {
      "cell_type": "code",
      "metadata": {
        "id": "v2hJCMQD5-QU"
      },
      "source": [
        "!mkdir leftie "
      ],
      "execution_count": null,
      "outputs": []
    },
    {
      "cell_type": "code",
      "metadata": {
        "id": "YvDCdjVSvgqL"
      },
      "source": [
        "for i in range(0,len(virt_frames)):\n",
        "  print(i)\n",
        "  image_path = \"frames/\"+virt_frames[i]\n",
        "  image = cv2.imread(image_path)\n",
        "\n",
        "  image = cv2.cvtColor(image, cv2.COLOR_BGR2RGB)\n",
        "  humans = prediction.inference(image, resize_to_default=(w > 0 and h > 0), upsample_size=4.0)\n",
        "\n",
        "  # the draw humans draws the proper keypoints on a person\n",
        "  image = TfPoseEstimator.draw_humans(image, humans, imgcopy = False)\n",
        "\n",
        "  # You can draw the kps on a plain black background\n",
        "\n",
        "  image = common.read_imgfile(image_path, None, None)\n",
        "  humans = prediction.inference(image, resize_to_default=(w > 0 and h > 0), upsample_size=4.0)\n",
        "\n",
        "  # get the keypoints\n",
        "  if len(humans) == 1:\n",
        "    keypoints = str(str(str(humans[0]).split('BodyPart:')[1:]).split('-')).split(' score=')\n",
        "    # parse through the results to get the specific keypoints\n",
        "    keypoints_list = []\n",
        "    scores_list = []\n",
        "    for k in range(1,len(keypoints)-1): \n",
        "      pnt = keypoints[k][-11:-1]\n",
        "      pnt = tuple(map(float, pnt.split(', ')))\n",
        "      keypoints_list.append(pnt)\n",
        "      # I added this like to get the score\n",
        "      # this will help us filter the values\n",
        "      score = float(keypoints[k].split(\",\")[0].split(' ')[0])\n",
        "      scores_list.append(score)\n",
        "\n",
        "\n",
        "    # create a keypoints array\n",
        "    keypts_array = np.array(keypoints_list)\n",
        "    keypts_array = keypts_array*(image.shape[1],image.shape[0])\n",
        "    keypts_array = keypts_array.astype(int) \n",
        "\n",
        "    \n",
        "\n",
        "    # collect the necessary inferences\n",
        "    if len(keypts_array) > 11:\n",
        "      shoulder = keypts_array[2]\n",
        "      elbow = keypts_array[3]\n",
        "      wrist = keypts_array[4]\n",
        "      hip = keypts_array[8]\n",
        "      holder = [shoulder, elbow, wrist, hip]\n",
        "      kp_series.append(holder)\n",
        "      scores_series.append([scores_list[2], scores_list[3],scores_list[4],scores_list[8]])\n",
        "      # cv2.imwrite(\"leftie/\"+str(i)+\".jpg\",image)\n"
      ],
      "execution_count": null,
      "outputs": []
    },
    {
      "cell_type": "code",
      "metadata": {
        "id": "NrwiNO2s_RjH"
      },
      "source": [
        "def plot_kps_person(i,pts_arr):\n",
        "  plt.figure(figsize=(10,10))\n",
        "  \n",
        "  plt.axis([0, image.shape[1], 0, image.shape[0]])\n",
        "  plt.scatter(*zip(*pts_arr), s=200, color='pink', alpha=0.6)\n",
        "  img = cv2.cvtColor(image, cv2.COLOR_BGR2RGB)\n",
        "  # plt.imshow(img)\n",
        "  ax=plt.gca() \n",
        "  ax.set_ylim(ax.get_ylim()[::-1]) \n",
        "  ax.xaxis.tick_top() \n",
        "  plt.grid();\n",
        "  for j, txt in enumerate(pts_arr):\n",
        "    # I changed the offset to 3 instead of 5\n",
        "    ax.annotate(j, (pts_arr[j][0]-3, pts_arr[j][1]+3))\n",
        "\n",
        "  plt.savefig(\"marked_2/\"+str(i)+\".jpg\",bbox_inches='tight')"
      ],
      "execution_count": null,
      "outputs": []
    },
    {
      "cell_type": "code",
      "metadata": {
        "id": "i-jk6aGTAuX0"
      },
      "source": [
        "# This allows the plots to be placed on the actual image\n",
        "# Use this to place the number circles on the frame\n",
        "\n",
        "def plot_kps_person(i):\n",
        "  plt.figure(figsize=(10,10))\n",
        "  plt.axis([0, image.shape[1], 0, image.shape[0]])\n",
        "  plt.scatter(*zip(*keypts_array), s=200, color='orange', alpha=0.6)\n",
        "  img = cv2.cvtColor(image, cv2.COLOR_BGR2RGB)\n",
        "  # plt.imshow(img)\n",
        "  ax=plt.gca() \n",
        "  ax.set_ylim(ax.get_ylim()[::-1]) \n",
        "  ax.xaxis.tick_top() \n",
        "  plt.grid();\n",
        "  for j, txt in enumerate(keypts_array):\n",
        "    # I changed the offset to 3 instead of 5\n",
        "    ax.annotate(j, (keypts_array[j][0]-3, keypts_array[j][1]+3))\n",
        "\n",
        "  plt.savefig(\"preds/\"+str(i)+\".jpg\",bbox_inches='tight')"
      ],
      "execution_count": null,
      "outputs": []
    },
    {
      "cell_type": "code",
      "metadata": {
        "id": "3sL3m4ON6WCD"
      },
      "source": [
        "# colors that I have selected for potential skeletons\n",
        "blush = [153, 204, 255]\n",
        "red = [0,0,255]\n",
        "pink = [255, 0, 255]\n",
        "light_purple = [255,153,153]\n",
        "purple = [255, 102, 102]\n",
        "peach_cream = [100,200,255]\n",
        "neon_blue = [255,255,0]\n",
        "yellow = [51,255,255]\n",
        "light_green = [128,255,0]\n",
        "cream = [204,229,255]\n",
        "dark_blue = [255, 128,0]\n",
        "fun_green = [0,200,50]\n",
        "mustard = [0,204,204]\n",
        "fuchsia = [100,50,200]\n",
        "color_map = [blush, blush, blush, red, red, pink, light_purple, purple, peach_cream,\n",
        "             neon_blue, yellow, light_green,cream, fuchsia, mustard, dark_blue, fun_green]\n",
        "\n",
        "\n",
        "# loop through the annotations and mark the images\n",
        "for i in range(0,len(kp_series)):\n",
        "  # get the image\n",
        "  image_path = \"leftie/\" + lefties[i]\n",
        "  image = cv2.imread(image_path)\n",
        "\n",
        "  # get the frame\n",
        "  # shoulder_vec = kp_series[i]\n",
        "  # elbow_vec = kp_series[i]\n",
        "  # wrist_vec = kp_series[i][2]\n",
        "  # hip_vec = kp_series[i][3]\n",
        "\n",
        "  # mark the image\n",
        "  # I will only plot things exceeding the checkpoints\n",
        "  # if scores_series[i] > 0.4:\n",
        "  #   image = cv2.circle(image, (shoulder_vec[0], shoulder_vec[1]), 10, red, 5)\n",
        "  # if scores_series[i] > 0.3: \n",
        "  #   image = cv2.circle(image, (elbow_vec[0], elbow_vec[1]), 10, pink, 5)\n",
        "  # if scores_series[i][2] > 0.6: \n",
        "  #   image = cv2.circle(image, (wrist_vec[0], wrist_vec[1]), 10, neon_blue, 5)\n",
        "  # if scores_series[i][3] > 0.6:\n",
        "  #   image = cv2.circle(image, (hip_vec[0], hip_vec[1]), 10, mustard, 5)\n",
        "  # plot_kps_person(i, kp_series[i])\n",
        "  plt.figure(figsize=(10,10))\n",
        "  \n",
        "  plt.axis([0, image.shape[1], 0, image.shape[0]])\n",
        "  plt.scatter(*zip(*kp_series[i]), s=200, color='pink', alpha=0.6)\n",
        "  img = cv2.cvtColor(image, cv2.COLOR_BGR2RGB)\n",
        "  # plt.imshow(img)\n",
        "  ax=plt.gca() \n",
        "  ax.set_ylim(ax.get_ylim()[::-1]) \n",
        "  ax.xaxis.tick_top() \n",
        "  plt.grid();\n",
        "  for j, txt in enumerate(kp_series[i]):\n",
        "    # I changed the offset to 3 instead of 5\n",
        "    ax.annotate(j, (kp_series[i][j][0]-3, kp_series[i][j][1]+3))\n",
        "\n",
        "  plt.savefig(\"marked_2/\"+str(i)+\".jpg\",bbox_inches='tight')\n",
        "  \n",
        "  \n",
        "  # cv2.imwrite(\"marked_2/\"+str(i)+'.jpg', image)"
      ],
      "execution_count": null,
      "outputs": []
    },
    {
      "cell_type": "markdown",
      "metadata": {
        "id": "bKosJq4aA8oV"
      },
      "source": [
        "Calculate the displacement"
      ]
    },
    {
      "cell_type": "markdown",
      "metadata": {
        "id": "y_ylTR9IBJ5C"
      },
      "source": [
        "- Wrist x --> bottom_rotate\n",
        "- wrist y --> wrist_down\n",
        "- elbow x --> bottom_rotate\n",
        "- elbow y --> elbow down\n",
        "- shoulder x --> bottom rotate\n",
        "- shoulder y --> shoulder down"
      ]
    },
    {
      "cell_type": "markdown",
      "metadata": {
        "id": "toLaGy6AB8-U"
      },
      "source": [
        "Angle range (down to up):\n",
        "- wrist:\n",
        "- elbow:\n",
        "- shoulder: "
      ]
    },
    {
      "cell_type": "markdown",
      "metadata": {
        "id": "w6_nyXU8Q5os"
      },
      "source": [
        "Code to calculate the angles"
      ]
    },
    {
      "cell_type": "code",
      "metadata": {
        "id": "NYtaCMntUHaL"
      },
      "source": [
        "import math\n",
        "def magnitude(vec1, vec2):\n",
        "  diff = vec1 - vec2\n",
        "  squared =  diff ** 2\n",
        "  summed = sum(squared)\n",
        "  mag = math.sqrt(summed)\n",
        "  return(mag)"
      ],
      "execution_count": null,
      "outputs": []
    },
    {
      "cell_type": "code",
      "metadata": {
        "id": "bRNq_vlIYuaG"
      },
      "source": [
        "# arguments: edges --> (s,e), (e,w), (s,w)\n",
        "def angle_T1(se, ew, sw):\n",
        "  # cosine of the shoulder vertex\n",
        "  cosS = ((sw**2)+(se**2)-(ew**2))/(2*sw*se)\n",
        "  beta = round(math.acos(cosS)*(180/(math.pi)),1)\n",
        "  cosE = ((ew**2)+(se**2)-(sw**2))/(2*ew*se)\n",
        "  alpha = round(math.acos(cosE)*(180/(math.pi)),1)\n",
        "  cosW = ((sw**2)+(ew**2)-(se**2))/(2*sw*ew)\n",
        "  gamma = round(math.acos(cosW)*(180/(math.pi)),1)\n",
        "\n",
        "  result = np.array([beta,alpha,gamma])\n",
        "\n",
        "  return result\n",
        "  "
      ],
      "execution_count": null,
      "outputs": []
    },
    {
      "cell_type": "code",
      "metadata": {
        "id": "Ei85NMn3cKEw"
      },
      "source": [
        "# arguments: edges --> (s,e), (h,e), (s,h)\n",
        "def angle_T2(se, sh, he):\n",
        "  # cosine of the shoulder vertex\n",
        "  cosS = ((sh**2)+(se**2)-(he**2))/(2*sh*se)\n",
        "  theta = round(math.acos(cosS)*(180/(math.pi)),1)\n",
        "  cosE = ((se**2)+(he**2)-(sh**2))/(2*se*he)\n",
        "  omega = round(math.acos(cosE)*(180/(math.pi)),1)\n",
        "  cosH = ((sh**2)+(he**2)-(se**2))/(2*sh*he)\n",
        "  phi = round(math.acos(cosH)*(180/(math.pi)))\n",
        "\n",
        "  result = np.array([theta, omega, phi])\n",
        "\n",
        "  return result"
      ],
      "execution_count": null,
      "outputs": []
    },
    {
      "cell_type": "code",
      "metadata": {
        "id": "U1yzrc4CB8I2"
      },
      "source": [
        "# I'm using 2 triangles to calsulate displacement\n",
        "# Triangle 1: wrist(gamma), elbow(alpha), shoulder(beta)\n",
        "# Triangle 2: shoulder(theta), hip(omega), elbow(phi)\n",
        "\n",
        "\n",
        "# Ordering: shoulder, elbow, wrist, hip\n",
        "\n",
        "# set global vars for prev vals:\n",
        "# T1\n",
        "orig_beta = 0\n",
        "orig_alpha = 0\n",
        "orig_gamma = 0\n",
        "# T2\n",
        "orig_theta = 0\n",
        "orig_omega = 0\n",
        "orig_phi = 0\n",
        "\n",
        "for i in range(0,len(kp_series)):\n",
        "  # get the vectors\n",
        "  shoulder_vec = kp_series[i][0]\n",
        "  elbow_vec = kp_series[i][1]\n",
        "  wrist_vec = kp_series[i][2]\n",
        "  hip_vec = kp_series[i][3]\n",
        "\n",
        "  # calculate the magnitudes\n",
        "  # T1: s,e,w\n",
        "  se_mag = magnitude(shoulder_vec, elbow_vec)\n",
        "  sw_mag = magnitude(shoulder_vec, wrist_vec)\n",
        "  ew_mag = magnitude(elbow_vec, wrist_vec)\n",
        "\n",
        "  # T2: s,e,h\n",
        "  # I've aready calculated se in T1\n",
        "  sh_mag = magnitude(shoulder_vec, hip_vec)\n",
        "  he_mag = magnitude(hip_vec, elbow_vec)\n",
        "\n",
        "  # calculate the angles\n",
        "  results_T1 = angle_T1(se_mag,ew_mag,sw_mag)\n",
        "  angles_T1.append(results_T1.tolist())\n",
        "\n",
        "  results_T2 = angle_T2(se_mag,sh_mag,he_mag)\n",
        "  angles_T2.append(results_T2.tolist())\n",
        "\n",
        "  # calculate the delta T1 & T2\n",
        "  original_angles_T1 = np.array([orig_beta, orig_alpha, orig_gamma]) \n",
        "  T1_frame_delta = results_T1 - original_angles_T1\n",
        "  T1_delta_rounded = []\n",
        "  # for some reaon some values weren't rounding\n",
        "  # properly so I'll take the long route out for now\n",
        "  for unit in T1_frame_delta:\n",
        "    val = round(unit,1)\n",
        "    T1_delta_rounded.append(val)\n",
        "  delta_T1.append(T1_delta_rounded)\n",
        "\n",
        "  original_angles_T2 = np.array([orig_theta, orig_phi, orig_omega])\n",
        "  T2_frame_delta = results_T2 - original_angles_T2\n",
        "  T2_delta_rounded = []\n",
        "  for unit in T2_frame_delta:\n",
        "    val = round(unit,1)\n",
        "    T2_delta_rounded.append(val)\n",
        "  delta_T2.append(T2_delta_rounded)\n",
        "\n",
        "\n",
        "  # replace the original angles with the current angles \n",
        "  orig_beta, orig_aplha, orig_gamma = results_T1\n",
        "  orig_theta, orig_phi, orig_omega =  results_T2\n",
        "  \n"
      ],
      "execution_count": null,
      "outputs": []
    },
    {
      "cell_type": "markdown",
      "metadata": {
        "id": "4JN6VOdo2aEi"
      },
      "source": [
        "Code to draw the skeleton"
      ]
    },
    {
      "cell_type": "code",
      "metadata": {
        "id": "9YMmoH8G8Aeq"
      },
      "source": [
        "lefties = os.listdir(\"leftie/\")"
      ],
      "execution_count": null,
      "outputs": []
    },
    {
      "cell_type": "code",
      "metadata": {
        "colab": {
          "base_uri": "https://localhost:8080/"
        },
        "id": "TgL9zYTBRFY9",
        "outputId": "561b3ee1-6359-45a2-d9d3-9b92bbce4279"
      },
      "source": [
        "!pwd"
      ],
      "execution_count": null,
      "outputs": [
        {
          "output_type": "stream",
          "text": [
            "/content/drive/My Drive/Dataset/pose_estimation/cerebella/tf-pose-estimation/virtual_potentiometer\n"
          ],
          "name": "stdout"
        }
      ]
    },
    {
      "cell_type": "code",
      "metadata": {
        "id": "rQw40SdP8S4G"
      },
      "source": [
        "!mkdir synched"
      ],
      "execution_count": null,
      "outputs": []
    },
    {
      "cell_type": "markdown",
      "metadata": {
        "id": "lj4-gOIYRWQ-"
      },
      "source": [
        "\n",
        "I want to create code that:\n",
        "1.   plots the points on the right arm T1 & T2\n",
        "2.   plots the triangles in different colors\n",
        "3.   Saves the images in the sequence in a folder of their own\n",
        "4.   Collects the inferences of those images\n",
        "5.   Creates a marked video\n",
        "\n"
      ]
    },
    {
      "cell_type": "code",
      "metadata": {
        "colab": {
          "base_uri": "https://localhost:8080/"
        },
        "id": "xZA9DO9RWVaQ",
        "outputId": "09787397-fa30-49c0-b228-335556ffefe9"
      },
      "source": [
        "%cd virtual_potentiometer/"
      ],
      "execution_count": null,
      "outputs": [
        {
          "output_type": "stream",
          "text": [
            "/content/drive/My Drive/Dataset/pose_estimation/cerebella/tf-pose-estimation/virtual_potentiometer\n"
          ],
          "name": "stdout"
        }
      ]
    },
    {
      "cell_type": "code",
      "metadata": {
        "id": "wOKnqAJ5TQ7J"
      },
      "source": [
        "selected = [74,73,61,60,59,58,56,55,53,52,51,50,49,48,47,39,37,36,35,32,27,26,25,21,20,19,7,2,1,0]"
      ],
      "execution_count": null,
      "outputs": []
    },
    {
      "cell_type": "code",
      "metadata": {
        "id": "muRUS1oMSQtT"
      },
      "source": [
        "# Unfortunately I had to hand pick the frames \n",
        "# but in the future I want to pick frames\n",
        "# if all the 4 kpts have surpassed a certain threshold\n",
        "\n",
        "# path = \"marked3/\"\n",
        "# copy the frames into the virtual_potentiometer folder\n",
        "for i in range(0,len(selected)):\n",
        "  print(i)\n",
        "  filename = \"frames/\"+ str(selected[i])+\".jpg\"\n",
        "  img = cv2.imread(filename)\n",
        "  out_name = \"synched/\" + str(i) +'.jpg'\n",
        "  cv2.imwrite(out_name,img)"
      ],
      "execution_count": null,
      "outputs": []
    },
    {
      "cell_type": "code",
      "metadata": {
        "id": "Et5LGb2UZt-3"
      },
      "source": [
        "synched=os.listdir('synched/')"
      ],
      "execution_count": null,
      "outputs": []
    },
    {
      "cell_type": "code",
      "metadata": {
        "id": "bQTuRBf8aSm6"
      },
      "source": [
        "# save the keypoints across time\n",
        "kp_series = []\n",
        "scores_series = []"
      ],
      "execution_count": null,
      "outputs": []
    },
    {
      "cell_type": "code",
      "metadata": {
        "id": "GZnrtlCiZiCa"
      },
      "source": [
        "for i in range(0,len(synched)):\n",
        "  print(i)\n",
        "  image_path = \"synched/\"+synched[i]\n",
        "  image = cv2.imread(image_path)\n",
        "\n",
        "  image = cv2.cvtColor(image, cv2.COLOR_BGR2RGB)\n",
        "  humans = prediction.inference(image, resize_to_default=(w > 0 and h > 0), upsample_size=4.0)\n",
        "\n",
        "  # the draw humans draws the proper keypoints on a person\n",
        "  image = TfPoseEstimator.draw_humans(image, humans, imgcopy = False)\n",
        "\n",
        "  # You can draw the kps on a plain black background\n",
        "\n",
        "  image = common.read_imgfile(image_path, None, None)\n",
        "  humans = prediction.inference(image, resize_to_default=(w > 0 and h > 0), upsample_size=4.0)\n",
        "\n",
        "  # get the keypoints\n",
        "  if len(humans) == 1:\n",
        "    keypoints = str(str(str(humans[0]).split('BodyPart:')[1:]).split('-')).split(' score=')\n",
        "    # parse through the results to get the specific keypoints\n",
        "    keypoints_list = []\n",
        "    scores_list = []\n",
        "    for k in range(1,len(keypoints)-1): \n",
        "      pnt = keypoints[k][-11:-1]\n",
        "      pnt = tuple(map(float, pnt.split(', ')))\n",
        "      keypoints_list.append(pnt)\n",
        "      # I added this like to get the score\n",
        "      # this will help us filter the values\n",
        "      score = float(keypoints[k].split(\",\")[0].split(' ')[0])\n",
        "      scores_list.append(score)\n",
        "\n",
        "\n",
        "    # create a keypoints array\n",
        "    keypts_array = np.array(keypoints_list)\n",
        "    keypts_array = keypts_array*(image.shape[1],image.shape[0])\n",
        "    keypts_array = keypts_array.astype(int) \n",
        "\n",
        "    \n",
        "\n",
        "    # collect the necessary inferences\n",
        "    if len(keypts_array) > 11:\n",
        "      shoulder = keypts_array[2]\n",
        "      elbow = keypts_array[3]\n",
        "      wrist = keypts_array[4]\n",
        "      hip = keypts_array[8]\n",
        "      holder = [shoulder, elbow, wrist, hip]\n",
        "      kp_series.append(holder)\n",
        "      scores_series.append([scores_list[2], scores_list[3],scores_list[4],scores_list[8]])\n",
        "      "
      ],
      "execution_count": null,
      "outputs": []
    },
    {
      "cell_type": "code",
      "metadata": {
        "id": "DR9VXLfDfLzn"
      },
      "source": [
        "# get the changes in degree and save them\n",
        "delta_T1 = []\n",
        "delta_T2 = []\n",
        "\n",
        "# save the angles in each frame for now\n",
        "angles_T1 = []\n",
        "angles_T2 = []"
      ],
      "execution_count": null,
      "outputs": []
    },
    {
      "cell_type": "code",
      "metadata": {
        "id": "h6YJendDRV80"
      },
      "source": [
        "# I want to run predictions on the new data\n",
        "\n",
        "# I'm using 2 triangles to calsulate displacement\n",
        "# Triangle 1: wrist(gamma), elbow(alpha), shoulder(beta)\n",
        "# Triangle 2: shoulder(theta), hip(omega), elbow(phi)\n",
        "\n",
        "\n",
        "# Ordering: shoulder, elbow, wrist, hip\n",
        "\n",
        "# set global vars for prev vals:\n",
        "# T1\n",
        "orig_beta = 0\n",
        "orig_alpha = 0\n",
        "orig_gamma = 0\n",
        "# T2\n",
        "orig_theta = 0\n",
        "orig_omega = 0\n",
        "orig_phi = 0\n",
        "\n",
        "for i in range(0,len(kp_series)):\n",
        "  # get the vectors\n",
        "  shoulder_vec = kp_series[i][0]\n",
        "  elbow_vec = kp_series[i][1]\n",
        "  wrist_vec = kp_series[i][2]\n",
        "  hip_vec = kp_series[i][3]\n",
        "\n",
        "  # calculate the magnitudes\n",
        "  # T1: s,e,w\n",
        "  se_mag = magnitude(shoulder_vec, elbow_vec)\n",
        "  sw_mag = magnitude(shoulder_vec, wrist_vec)\n",
        "  ew_mag = magnitude(elbow_vec, wrist_vec)\n",
        "\n",
        "  # T2: s,e,h\n",
        "  # I've aready calculated se in T1\n",
        "  sh_mag = magnitude(shoulder_vec, hip_vec)\n",
        "  he_mag = magnitude(hip_vec, elbow_vec)\n",
        "\n",
        "  # calculate the angles\n",
        "  results_T1 = angle_T1(se_mag,ew_mag,sw_mag)\n",
        "  # print(\"results\",  results_T1)\n",
        "  angles_T1.append(results_T1.tolist())\n",
        "\n",
        "  results_T2 = angle_T2(se_mag,sh_mag,he_mag)\n",
        "  angles_T2.append(results_T2.tolist())\n",
        "\n",
        "  # calculate the delta T1 & T2\n",
        "  original_angles_T1 = np.array([orig_beta, orig_alpha, orig_gamma]) \n",
        "  T1_frame_delta = results_T1 - original_angles_T1\n",
        "  # print(\"***>\",results_T1)\n",
        "  T1_delta_rounded = []\n",
        "  # print(\"--->\",results_T1[1],original_angles_T1[1])\n",
        "\n",
        "  # I can't for the life of me figure out\n",
        "  # why the elbow deltas aren't calculating right\n",
        "  \n",
        "\n",
        "  # for some reaon some values weren't rounding\n",
        "  # properly so I'll take the long route out for now\n",
        "  for unit in T1_frame_delta:\n",
        "    val = round(unit,1)\n",
        "    T1_delta_rounded.append(val)\n",
        "  delta_T1.append(T1_delta_rounded)\n",
        "\n",
        "  original_angles_T2 = np.array([orig_theta, orig_phi, orig_omega])\n",
        "  T2_frame_delta = results_T2 - original_angles_T2\n",
        "  T2_delta_rounded = []\n",
        "  for unit in T2_frame_delta:\n",
        "    val = round(unit,1)\n",
        "    T2_delta_rounded.append(val)\n",
        "  delta_T2.append(T2_delta_rounded)\n",
        "\n",
        "\n",
        "  # replace the original angles with the current angles \n",
        "  orig_beta, orig_alpha, orig_gamma = angles_T1[-1]\n",
        "  orig_theta, orig_phi, orig_omega = angles_T2[-1]\n",
        "  \n"
      ],
      "execution_count": null,
      "outputs": []
    },
    {
      "cell_type": "code",
      "metadata": {
        "id": "3npF-syFazjZ"
      },
      "source": [
        "import pandas as pd\n",
        "# collect the inferences\n",
        "angles_t1_df = pd.DataFrame(angles_T1)\n",
        "angles_t1_df.to_csv(\"angles_t1.csv\")\n",
        "angles_t2_df = pd.DataFrame(angles_T2)\n",
        "angles_t2_df.to_csv(\"angles_t2.csv\")\n",
        "delta_t1_df = pd.DataFrame(delta_T1)\n",
        "delta_t1_df.to_csv(\"delta_t1.csv\")\n",
        "delta_t2_df = pd.DataFrame(delta_T2)\n",
        "delta_t2_df.to_csv(\"delta_t2.csv\")"
      ],
      "execution_count": null,
      "outputs": []
    },
    {
      "cell_type": "code",
      "metadata": {
        "colab": {
          "base_uri": "https://localhost:8080/"
        },
        "id": "TQ6dthK5eWQa",
        "outputId": "a844d5dd-b28c-4b8a-fbde-0600e3a8bedb"
      },
      "source": [
        "kp_series[0]"
      ],
      "execution_count": null,
      "outputs": [
        {
          "output_type": "execute_result",
          "data": {
            "text/plain": [
              "[array([576, 410]),\n",
              " array([288, 421]),\n",
              " array([1152,  345]),\n",
              " array([ 921, 1036])]"
            ]
          },
          "metadata": {
            "tags": []
          },
          "execution_count": 45
        }
      ]
    },
    {
      "cell_type": "markdown",
      "metadata": {
        "id": "kuEMQtRyl5sV"
      },
      "source": [
        "Testing on a single joint"
      ]
    },
    {
      "cell_type": "code",
      "metadata": {
        "id": "T5iQa_marvJ4"
      },
      "source": [
        "# colors that I have selected for potential skeletons\n",
        "blush = [153, 204, 255]\n",
        "red = [0,0,255]\n",
        "pink = [255, 0, 255]\n",
        "light_purple = [255,153,153]\n",
        "purple = [255, 102, 102]\n",
        "peach_cream = [100,200,255]\n",
        "neon_blue = [255,255,0]\n",
        "yellow = [51,255,255]\n",
        "light_green = [128,255,0]\n",
        "cream = [204,229,255]\n",
        "dark_blue = [255, 128,0]\n",
        "fun_green = [0,200,50]\n",
        "mustard = [0,204,204]\n",
        "fuchsia = [100,50,200]\n",
        "color_map = [blush, blush, blush, red, red, pink, light_purple, purple, peach_cream,\n",
        "             neon_blue, yellow, light_green,cream, fuchsia, mustard, dark_blue, fun_green]\n",
        "\n",
        "\n",
        "import numpy as np\n",
        "import matplotlib.pyplot as plt\n",
        "\n",
        "def draw_line(x1,y1,x2,y2):\n",
        "  x=[-1 ,0.5 ,1,-0.5]\n",
        "  y=[ 0.5,  1, -0.5, -1]\n",
        "  plt.plot(x,y, 'ro')\n",
        "\n",
        "def connectpoints(x,y,p1,p2):\n",
        "    x1, x2 = x[p1], x[p2]\n",
        "    y1, y2 = y[p1], y[p2]\n",
        "    plt.plot([x1,x2],[y1,y2],'k-')\n",
        "\n",
        "# connectpoints(x,y,0,1)\n",
        "# connectpoints(x,y,2,3)\n",
        "\n",
        "# plt.axis('equal')\n",
        "# plt.show()\n",
        "\n",
        "\n",
        "# loop through the annotations and mark the images\n",
        "for i in range(0,len(kp_series)):\n",
        "  # get the image\n",
        "  image_path = \"synched/\" + synched[i]\n",
        "  image = cv2.imread(image_path)\n",
        "\n",
        "  # get the frame\n",
        "  shoulder_vec = kp_series[i][0]\n",
        "  elbow_vec = kp_series[i][1]\n",
        "  wrist_vec = kp_series[i][2]\n",
        "  hip_vec = kp_series[i][3]\n",
        "\n",
        "  # mark the image by drawing the triangles\n",
        "\n",
        "  # I will only plot things exceeding the checkpoints\n",
        "  # if scores_series[i] > 0.5:\n",
        "  #   image = cv2.circle(image, (shoulder_vec[0], shoulder_vec[1]), 10, red, 5)\n",
        "  if scores_series[i][1] > 0.6: \n",
        "    image = cv2.circle(image, (elbow_vec[0], elbow_vec[1]), 10, pink, 5)\n",
        "  # if scores_series[i][2] > 0.6: \n",
        "  #   image = cv2.circle(image, (wrist_vec[0], wrist_vec[1]), 10, neon_blue, 5)\n",
        "  # if scores_series[i][3] > 0.6:\n",
        "  #   image = cv2.circle(image, (hip_vec[0], hip_vec[1]), 10, mustard, 5)\n",
        "  \n",
        "\n",
        "  cv2.imwrite(\"marked_2/\"+str(i)+'.jpg', image)"
      ],
      "execution_count": null,
      "outputs": []
    },
    {
      "cell_type": "code",
      "metadata": {
        "id": "2hNjl6LK1sw5"
      },
      "source": [
        "# The images came out so ratchet that I might as well have a look myself\n",
        "image_path = \"frames/\"+virt_frames[9]\n",
        "image = cv2.imread(image_path)"
      ],
      "execution_count": null,
      "outputs": []
    },
    {
      "cell_type": "code",
      "metadata": {
        "id": "_UtysPkm3V0H"
      },
      "source": [
        "# testing on a single image\n",
        "!python run.py --model=mobilenet_thin --resize=432x368 --image=./virtual_potentiometer/frames/9.jpg"
      ],
      "execution_count": null,
      "outputs": []
    },
    {
      "cell_type": "code",
      "metadata": {
        "id": "FHM3Yrbi97Lt"
      },
      "source": [
        ""
      ],
      "execution_count": null,
      "outputs": []
    }
  ]
}