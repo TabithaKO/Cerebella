{
  "nbformat": 4,
  "nbformat_minor": 0,
  "metadata": {
    "colab": {
      "name": "openpose_cerebella_3d.ipynb",
      "provenance": [],
      "collapsed_sections": []
    },
    "kernelspec": {
      "name": "python3",
      "display_name": "Python 3"
    }
  },
  "cells": [
    {
      "cell_type": "code",
      "metadata": {
        "colab": {
          "base_uri": "https://localhost:8080/"
        },
        "id": "x_ay8ZZ0CcHO",
        "outputId": "f910a75f-1a42-403a-c613-ccc7a29e0229"
      },
      "source": [
        "# move into the folder\n",
        "%cd drive/MyDrive/Dataset/pose_estimation/cerebella/tf-pose-estimation/"
      ],
      "execution_count": null,
      "outputs": [
        {
          "output_type": "stream",
          "text": [
            "/content/drive/MyDrive/Dataset/pose_estimation/cerebella/tf-pose-estimation\n"
          ],
          "name": "stdout"
        }
      ]
    },
    {
      "cell_type": "code",
      "metadata": {
        "id": "c3BLH1DqDRU6"
      },
      "source": [
        "import sys\n",
        "import time\n",
        "import logging\n",
        "import os\n",
        "import pandas as pd\n",
        "import random\n",
        "import string\n",
        "import tensorflow as tf\n",
        "import numpy as np\n",
        "from PIL import Image\n",
        "import pickle\n",
        "import matplotlib.pyplot as plt\n",
        "import cv2 \n",
        "from google.colab.patches import cv2_imshow\n",
        "import math"
      ],
      "execution_count": null,
      "outputs": []
    },
    {
      "cell_type": "code",
      "metadata": {
        "id": "pVtlWgvBD_2Y"
      },
      "source": [
        "# read the csv in as an array\n",
        "input = pd.read_csv('3d_updated_output.csv')\n",
        "input"
      ],
      "execution_count": null,
      "outputs": []
    },
    {
      "cell_type": "code",
      "metadata": {
        "id": "BRmH8J6nHkTB"
      },
      "source": [
        "def magnitude(vec1, vec2):\n",
        "  diff = vec1 - vec2\n",
        "  squared =  diff ** 2\n",
        "  summed = sum(squared)\n",
        "  mag = math.sqrt(summed)\n",
        "  return(mag)"
      ],
      "execution_count": null,
      "outputs": []
    },
    {
      "cell_type": "code",
      "metadata": {
        "id": "JQRIBs7eJ81c"
      },
      "source": [
        "# arguments: edges --> (s,e), (e,w), (s,w)\n",
        "def angle_T1(se, ew, sw):\n",
        "  # cosine of the shoulder vertex\n",
        "  cosS = ((sw**2)+(se**2)-(ew**2))/(2*sw*se)\n",
        "  beta = round(math.acos(cosS)*(180/(math.pi)),1)\n",
        "  cosE = ((ew**2)+(se**2)-(sw**2))/(2*ew*se)\n",
        "  alpha = round(math.acos(cosE)*(180/(math.pi)),1)\n",
        "  cosW = ((sw**2)+(ew**2)-(se**2))/(2*sw*ew)\n",
        "  gamma = round(math.acos(cosW)*(180/(math.pi)),1)\n",
        "\n",
        "  result = np.array([beta,alpha,gamma])\n",
        "\n",
        "  return result"
      ],
      "execution_count": null,
      "outputs": []
    },
    {
      "cell_type": "code",
      "metadata": {
        "id": "XS_5kNrFJ8tZ"
      },
      "source": [
        "# arguments: edges --> (s,e), (h,e), (s,h)\n",
        "def angle_T2(se, sh, he):\n",
        "  # cosine of the shoulder vertex\n",
        "  cosS = ((sh**2)+(se**2)-(he**2))/(2*sh*se)\n",
        "  theta = round(math.acos(cosS)*(180/(math.pi)),1)\n",
        "  cosE = ((se**2)+(he**2)-(sh**2))/(2*se*he)\n",
        "  omega = round(math.acos(cosE)*(180/(math.pi)),1)\n",
        "  cosH = ((sh**2)+(he**2)-(se**2))/(2*sh*he)\n",
        "  phi = round(math.acos(cosH)*(180/(math.pi)))\n",
        "\n",
        "  result = np.array([theta, omega, phi])\n",
        "\n",
        "  return result"
      ],
      "execution_count": null,
      "outputs": []
    },
    {
      "cell_type": "code",
      "metadata": {
        "id": "ZsZx2v6dKJRh"
      },
      "source": [
        "# get the changes in degree and save them\n",
        "delta_T1 = []\n",
        "delta_T2 = []\n",
        "delta_Z = []\n",
        "# save the angles in each frame for now\n",
        "angles_T1 = []\n",
        "angles_T2 = []\n",
        "\n",
        "# save the mean z values\n",
        "zees = []"
      ],
      "execution_count": null,
      "outputs": []
    },
    {
      "cell_type": "code",
      "metadata": {
        "id": "94FxUQsSLpe6"
      },
      "source": [
        "# I need to figure out how to match the keypoints \n",
        "# with the current input .... DONE!\n",
        "\n",
        "# 1 --> Hip\n",
        "# 14 --> shoulder\n",
        "# 15 --> elbow\n",
        "# 16 --> wrist"
      ],
      "execution_count": null,
      "outputs": []
    },
    {
      "cell_type": "code",
      "metadata": {
        "id": "-Td0ZK5PW5Ke"
      },
      "source": [
        "# get the data \n",
        "data = pd.read_csv('3d_updated_output.csv')"
      ],
      "execution_count": null,
      "outputs": []
    },
    {
      "cell_type": "code",
      "metadata": {
        "id": "HA31EHoCX9R6"
      },
      "source": [
        "# taking out the indexing column\n",
        "del data['Unnamed: 0']"
      ],
      "execution_count": null,
      "outputs": []
    },
    {
      "cell_type": "code",
      "metadata": {
        "id": "igWj_57fajvy"
      },
      "source": [
        "# loop through the dataframe and select the values\n",
        "# from col 1, 14, 15, 16\n",
        "# hip\n",
        "hip_x = data['0'].to_list()\n",
        "hip_y = data['1'].to_list()\n",
        "hip_z = data['2'].to_list()\n",
        "# shoulder\n",
        "shoulder_x = data['3'].to_list()\n",
        "shoulder_y = data['4'].to_list()\n",
        "shoulder_z = data['5'].to_list()\n",
        "# elbow\n",
        "elbow_x = data['6'].to_list()\n",
        "elbow_y = data['7'].to_list()\n",
        "elbow_z = data['8'].to_list()\n",
        "# wrist\n",
        "wrist_x = data['9'].to_list()\n",
        "wrist_y = data['10'].to_list()\n",
        "wrist_z = data['11'].to_list()"
      ],
      "execution_count": null,
      "outputs": []
    },
    {
      "cell_type": "code",
      "metadata": {
        "colab": {
          "base_uri": "https://localhost:8080/"
        },
        "id": "a_R1iDeZqgQ3",
        "outputId": "29192e81-9331-43e1-c59c-0a4ac360db11"
      },
      "source": [
        "type(elbow_y[0])"
      ],
      "execution_count": null,
      "outputs": [
        {
          "output_type": "execute_result",
          "data": {
            "text/plain": [
              "float"
            ]
          },
          "metadata": {
            "tags": []
          },
          "execution_count": 23
        }
      ]
    },
    {
      "cell_type": "markdown",
      "metadata": {
        "id": "DVxkedi685sI"
      },
      "source": [
        "This next cell is a prep for the main loop."
      ]
    },
    {
      "cell_type": "code",
      "metadata": {
        "id": "hEPzd6pihc27"
      },
      "source": [
        "for i in range(0, len(hip)):\n",
        "  x_h, space1, space2, y_h, z_h = hip[i].split(' ')\n",
        "  x_h = float(x_h.split('[')[1])\n",
        "  y_h = float(y_h)\n",
        "  z_h = float(z_h.split(']')[0])\n",
        "  hip_vec = [x_h, y_h]\n",
        "  x_s, space1, space2, y_s, z_s = shoulder[i].split(' ')\n",
        "  x_s = float(x_s.split('[')[1])\n",
        "  y_s = float(y_s)\n",
        "  z_s = float(z_s.split(']')[0])\n",
        "  shoulder_vec = [x_s, y_s]\n",
        "  x_e, space1, space2, y_e, z_e = elbow[i].split(' ')\n",
        "  x_e = float(x_e.split('[')[1])\n",
        "  y_e = float(y_e)\n",
        "  z_e = float(z_e.split(']')[0])\n",
        "  elbow_vec = [x_e, y_e]\n",
        "  x_w, space1, space2, y_w, z_w = wrist[i].split(' ')\n",
        "  x_w = float(x_w.split('[')[1])\n",
        "  y_w = float(y_w)\n",
        "  z_w = float(z_w.split(']')[0])\n",
        "  wrist_vec = [x_w, y_w]\n",
        "  z = [z_h, z_s, z_e, z_w] "
      ],
      "execution_count": null,
      "outputs": []
    },
    {
      "cell_type": "code",
      "metadata": {
        "id": "sO1TIkAfKIcX"
      },
      "source": [
        "# I want to run predictions on the new data\n",
        "\n",
        "# I'm using 2 triangles to calsulate displacement\n",
        "# Triangle 1: wrist(gamma), elbow(alpha), shoulder(beta)\n",
        "# Triangle 2: shoulder(theta), hip(omega), elbow(phi)\n",
        "\n",
        "\n",
        "# Ordering: shoulder, elbow, wrist, hip\n",
        "\n",
        "# set global vars for prev vals:\n",
        "# T1\n",
        "orig_beta = 0\n",
        "orig_alpha = 0\n",
        "orig_gamma = 0\n",
        "# T2\n",
        "orig_theta = 0\n",
        "orig_omega = 0\n",
        "orig_phi = 0\n",
        "# Z\n",
        "orig_z = 0\n",
        "\n",
        "for i in range(0, len(hip_x)):\n",
        "  # hip\n",
        "  x_h = hip_x[i] \n",
        "  y_h = hip_y[i] \n",
        "  hip_vec = np.array([x_h, y_h])\n",
        "  z_h = hip_z[i] \n",
        "  # shoulder\n",
        "  x_s = shoulder_x[i] \n",
        "  y_s = shoulder_y[i]\n",
        "  shoulder_vec = np.array([x_s, y_s]) \n",
        "  z_s = shoulder_z[i]\n",
        "  # elbow\n",
        "  x_e = elbow_x[i] \n",
        "  y_e = elbow_y[i]\n",
        "  elbow_vec = np.array([x_e, y_e]) \n",
        "  z_e = elbow_z[i]\n",
        "  # wrist\n",
        "  x_w = wrist_x[i] \n",
        "  y_w = wrist_y[i]\n",
        "  wrist_vec = np.array([x_w, y_w]) \n",
        "  z_w = wrist_z[i] \n",
        "\n",
        "\n",
        "  # calculate the change in Z magnitudes\n",
        "  z = [z_h, z_s, z_e, z_w] \n",
        "  z = np.array(z)\n",
        "  z_avg = np.mean(z)\n",
        "  zees.append(z_avg)\n",
        "  change_in_z = z_avg - orig_z\n",
        "  z_val = round(change_in_z,1)\n",
        "  delta_Z.append(z_val)\n",
        "\n",
        "  # calculate the magnitudes\n",
        "  # T1: s,e,w\n",
        "  se_mag = magnitude(shoulder_vec, elbow_vec)\n",
        "  sw_mag = magnitude(shoulder_vec, wrist_vec)\n",
        "  ew_mag = magnitude(elbow_vec, wrist_vec)\n",
        "\n",
        "  # T2: s,e,h\n",
        "  # I've aready calculated se in T1\n",
        "  sh_mag = magnitude(shoulder_vec, hip_vec)\n",
        "  he_mag = magnitude(hip_vec, elbow_vec)\n",
        "\n",
        "  # calculate the angles\n",
        "  results_T1 = angle_T1(se_mag,ew_mag,sw_mag)\n",
        "  # print(\"results\",  results_T1)\n",
        "  angles_T1.append(results_T1.tolist())\n",
        "\n",
        "  results_T2 = angle_T2(se_mag,sh_mag,he_mag)\n",
        "  angles_T2.append(results_T2.tolist())\n",
        "\n",
        "  # calculate the delta T1 & T2\n",
        "  original_angles_T1 = np.array([orig_beta, orig_alpha, orig_gamma]) \n",
        "  T1_frame_delta = results_T1 - original_angles_T1\n",
        "  # print(\"***>\",results_T1)\n",
        "  T1_delta_rounded = []\n",
        "  # print(\"--->\",results_T1[1],original_angles_T1[1])\n",
        "  \n",
        "\n",
        "  # for some reaon some values weren't rounding\n",
        "  # properly so I'll take the long route out for now\n",
        "  for unit in T1_frame_delta:\n",
        "    val = round(unit,1)\n",
        "    T1_delta_rounded.append(val)\n",
        "  delta_T1.append(T1_delta_rounded)\n",
        "\n",
        "  original_angles_T2 = np.array([orig_theta, orig_phi, orig_omega])\n",
        "  T2_frame_delta = results_T2 - original_angles_T2\n",
        "  T2_delta_rounded = []\n",
        "\n",
        "  for unit in T2_frame_delta:\n",
        "    val = round(unit,1)\n",
        "    T2_delta_rounded.append(val)\n",
        "  delta_T2.append(T2_delta_rounded)\n",
        "\n",
        "\n",
        "  # replace the original angles with the current angles \n",
        "  orig_beta, orig_alpha, orig_gamma = angles_T1[-1]\n",
        "  orig_theta, orig_phi, orig_omega = angles_T2[-1]\n",
        "  orig_z = zees[-1]"
      ],
      "execution_count": null,
      "outputs": []
    },
    {
      "cell_type": "code",
      "metadata": {
        "id": "O3cpjkK1Apm2"
      },
      "source": [
        "# Now I need to get the relevant deltas and make them a DF\n",
        "deltas = []\n",
        "for i in range(0, len(delta_T1)):\n",
        "  holder = []\n",
        "  holder.append(delta_T1[i][0])\n",
        "  holder.append(delta_T2[i][1])\n",
        "  holder.append(delta_T2[i][2])\n",
        "  holder.append(delta_Z[i])\n",
        "\n",
        "  deltas.append(holder)"
      ],
      "execution_count": null,
      "outputs": []
    },
    {
      "cell_type": "code",
      "metadata": {
        "id": "sA8i2i-myCIa"
      },
      "source": [
        "# make the deltas a DF\n",
        "delta_df = pd.DataFrame(deltas)"
      ],
      "execution_count": null,
      "outputs": []
    },
    {
      "cell_type": "code",
      "metadata": {
        "id": "kPyoxf4KvOXL"
      },
      "source": [
        "delta_df.to_csv(\"deltas.csv\")"
      ],
      "execution_count": null,
      "outputs": []
    }
  ]
}